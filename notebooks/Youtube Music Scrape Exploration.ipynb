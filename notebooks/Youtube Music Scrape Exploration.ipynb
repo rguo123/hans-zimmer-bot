{
 "cells": [
  {
   "cell_type": "code",
   "execution_count": 43,
   "id": "d04bedc1",
   "metadata": {},
   "outputs": [],
   "source": [
    "from pytube import YouTube\n",
    "from moviepy.editor import *\n",
    "from bs4 import BeautifulSoup\n",
    "import os\n",
    "\n",
    "\n",
    "import sys\n",
    "sys.path.insert(0,'/usr/lib/chromium-browser/chromedriver')\n",
    "from selenium import webdriver\n",
    "from selenium.webdriver.common.by import By\n",
    "from selenium.webdriver.support.ui import WebDriverWait\n",
    "from selenium.webdriver.support import expected_conditions as EC\n",
    "\n",
    "import time"
   ]
  },
  {
   "cell_type": "code",
   "execution_count": 33,
   "id": "e410db4f",
   "metadata": {},
   "outputs": [],
   "source": [
    "def download_youtube_mp3(url):\n",
    "    \"\"\"\n",
    "    Downloads a YouTube video as an MP3 file.\n",
    "    \n",
    "    Args:\n",
    "    url: the YouTube video URL\n",
    "    \n",
    "    Returns:\n",
    "    None\n",
    "    \"\"\"\n",
    "    # Download the YouTube video\n",
    "    yt = YouTube(url)\n",
    "    video = yt.streams.filter(only_audio=True).first()\n",
    "    output_path = video.download()\n",
    "\n",
    "    # Convert the video to an MP3 file\n",
    "    mp4_file = AudioFileClip(output_path)\n",
    "    mp3_file = os.path.splitext(output_path)[0] + \".mp3\"\n",
    "    mp4_file.write_audiofile(mp3_file)\n",
    "\n",
    "    # Delete the original video file\n",
    "    os.remove(output_path)\n",
    "\n",
    "    print(\"Download complete. MP3 file saved at: \", mp3_file)"
   ]
  },
  {
   "cell_type": "code",
   "execution_count": 3,
   "id": "0da5e0e5",
   "metadata": {},
   "outputs": [],
   "source": [
    "def build_youtube_query_url(theme):\n",
    "    \"\"\"\n",
    "    Build a youtube search query based on theme keyword.\n",
    "    All videos from URL will be filtered to be between 4-20 minutes long.\n",
    "    \"\"\"\n",
    "\n",
    "    return f\"https://www.youtube.com/results?search_query={theme}+instrumental+song&sp=EgIYAw%253D%253D\""
   ]
  },
  {
   "cell_type": "code",
   "execution_count": 55,
   "id": "59dd477d",
   "metadata": {},
   "outputs": [],
   "source": [
    "\n",
    "def scrape_youtube_urls_from_query_page(youtube_query_url, scroll_pause_time=3, scroll_amount = 5000):\n",
    "    # Launch the Chrome browser using Selenium WebDriver\n",
    "\n",
    "    chrome_options = webdriver.ChromeOptions()\n",
    "    # chrome_options.add_argument('--headless')\n",
    "    chrome_options.add_argument('--no-sandbox')\n",
    "    chrome_options.add_argument('--disable-dev-shm-usage')\n",
    "    driver = webdriver.Chrome('chromedriver', options=chrome_options)\n",
    "    # Load the YouTube url\n",
    "    driver.get(youtube_query_url)\n",
    "\n",
    "    # Wait for the page to load completely\n",
    "    driver.implicitly_wait(10)\n",
    "    \n",
    "    # scroll\n",
    "    driver.execute_script(f\"window.scrollTo(0, {scroll_amount});\")\n",
    "    # Wait to load page\n",
    "    time.sleep(scroll_pause_time)\n",
    "    \n",
    "    # Find all the links on the page\n",
    "    links = driver.find_elements(By.TAG_NAME, \"a\")\n",
    "\n",
    "    youtube_links = set()\n",
    "\n",
    "    # Print the href attribute of each link\n",
    "    for link in links:\n",
    "        href = link.get_attribute(\"href\")\n",
    "        if href and \"watch?v=\" in href:\n",
    "            youtube_links.add(href)\n",
    "\n",
    "    # Close the browser\n",
    "    driver.quit()\n",
    "    return youtube_links"
   ]
  },
  {
   "cell_type": "code",
   "execution_count": 56,
   "id": "1e36ef2a",
   "metadata": {},
   "outputs": [
    {
     "name": "stdout",
     "output_type": "stream",
     "text": [
      "https://www.youtube.com/results?search_query=peaceful+instrumental+song&sp=EgIYAw%253D%253D\n"
     ]
    },
    {
     "data": {
      "text/plain": [
       "{'https://www.youtube.com/watch?v=11JxJh654qk',\n",
       " 'https://www.youtube.com/watch?v=1P59sBpb3xg',\n",
       " 'https://www.youtube.com/watch?v=1P59sBpb3xg&t=302s',\n",
       " 'https://www.youtube.com/watch?v=1P59sBpb3xg&t=618s',\n",
       " 'https://www.youtube.com/watch?v=3bwWp2GvmAc',\n",
       " 'https://www.youtube.com/watch?v=4J6kWT4ggHg',\n",
       " 'https://www.youtube.com/watch?v=5hjnNq-JG-8',\n",
       " 'https://www.youtube.com/watch?v=7gz-gcHSPhw',\n",
       " 'https://www.youtube.com/watch?v=D4BZshNWJMc',\n",
       " 'https://www.youtube.com/watch?v=DFdORAPImvE',\n",
       " 'https://www.youtube.com/watch?v=Ditj9MZmJ1k',\n",
       " 'https://www.youtube.com/watch?v=EQuoy4Zr_sk',\n",
       " 'https://www.youtube.com/watch?v=EiP4ug_d_Vc',\n",
       " 'https://www.youtube.com/watch?v=HpvedStXfTo',\n",
       " 'https://www.youtube.com/watch?v=IcRkwmZZD24',\n",
       " 'https://www.youtube.com/watch?v=JTrBONyofRc',\n",
       " 'https://www.youtube.com/watch?v=KBeQHitqRZA',\n",
       " 'https://www.youtube.com/watch?v=LXwx6CCZvq8',\n",
       " 'https://www.youtube.com/watch?v=LnFQZukLhXU',\n",
       " 'https://www.youtube.com/watch?v=OrHNNZHhqyg',\n",
       " 'https://www.youtube.com/watch?v=Sw6LFQhxu_E',\n",
       " 'https://www.youtube.com/watch?v=Swhsv8eendo',\n",
       " 'https://www.youtube.com/watch?v=TXSb_OIMNQg',\n",
       " 'https://www.youtube.com/watch?v=VaG0g8uCmIw',\n",
       " 'https://www.youtube.com/watch?v=WY10zNRjGgo',\n",
       " 'https://www.youtube.com/watch?v=WjqMo8Mg7gA',\n",
       " 'https://www.youtube.com/watch?v=Xbm0DfrWEvw',\n",
       " 'https://www.youtube.com/watch?v=Y_QpO5rpL5E',\n",
       " 'https://www.youtube.com/watch?v=bBkG3plDxJ4',\n",
       " 'https://www.youtube.com/watch?v=bxuVT7eUtBg',\n",
       " 'https://www.youtube.com/watch?v=cKTL0zLZZRI',\n",
       " 'https://www.youtube.com/watch?v=fudfDUNVi5k',\n",
       " 'https://www.youtube.com/watch?v=iQv3A2K8UJc',\n",
       " 'https://www.youtube.com/watch?v=iQv3A2K8UJc&t=118s',\n",
       " 'https://www.youtube.com/watch?v=iQv3A2K8UJc&t=235s',\n",
       " 'https://www.youtube.com/watch?v=iQv3A2K8UJc&t=404s',\n",
       " 'https://www.youtube.com/watch?v=iQv3A2K8UJc&t=517s',\n",
       " 'https://www.youtube.com/watch?v=iVal4Ndgg8A',\n",
       " 'https://www.youtube.com/watch?v=iwN0TDa-Fh0',\n",
       " 'https://www.youtube.com/watch?v=j02gnVI-6mM',\n",
       " 'https://www.youtube.com/watch?v=mgPOMwfZYqk',\n",
       " 'https://www.youtube.com/watch?v=muSlNENHAU0',\n",
       " 'https://www.youtube.com/watch?v=ouUaEYboZ_E',\n",
       " 'https://www.youtube.com/watch?v=vOGUHU4UOYg',\n",
       " 'https://www.youtube.com/watch?v=xIrkdJnsLPU',\n",
       " 'https://www.youtube.com/watch?v=yfUdn8AtwSw'}"
      ]
     },
     "execution_count": 56,
     "metadata": {},
     "output_type": "execute_result"
    }
   ],
   "source": [
    "query_url = build_youtube_query_url(\"peaceful\")\n",
    "print(query_url)\n",
    "scrape_youtube_urls_from_query_page(query_url)"
   ]
  },
  {
   "cell_type": "code",
   "execution_count": 34,
   "id": "e303606d",
   "metadata": {},
   "outputs": [
    {
     "name": "stdout",
     "output_type": "stream",
     "text": [
      "MoviePy - Writing audio in /Users/richardguo/Columbia/applied_cv/hans-zimmer-bot/notebooks/Sounds Of Isha ⋄ Soothing instrumental music.mp3\n"
     ]
    },
    {
     "name": "stderr",
     "output_type": "stream",
     "text": [
      "                                                                                "
     ]
    },
    {
     "name": "stdout",
     "output_type": "stream",
     "text": [
      "MoviePy - Done.\n",
      "Download complete. MP3 file saved at:  /Users/richardguo/Columbia/applied_cv/hans-zimmer-bot/notebooks/Sounds Of Isha ⋄ Soothing instrumental music.mp3\n"
     ]
    },
    {
     "name": "stderr",
     "output_type": "stream",
     "text": [
      "\r"
     ]
    }
   ],
   "source": [
    "download_youtube_mp3('https://www.youtube.com/watch?v=1P59sBpb3xg')"
   ]
  },
  {
   "cell_type": "code",
   "execution_count": null,
   "id": "0a72dace",
   "metadata": {},
   "outputs": [],
   "source": []
  }
 ],
 "metadata": {
  "kernelspec": {
   "display_name": "applied_cv_env",
   "language": "python",
   "name": "applied_cv_env"
  },
  "language_info": {
   "codemirror_mode": {
    "name": "ipython",
    "version": 3
   },
   "file_extension": ".py",
   "mimetype": "text/x-python",
   "name": "python",
   "nbconvert_exporter": "python",
   "pygments_lexer": "ipython3",
   "version": "3.9.12"
  }
 },
 "nbformat": 4,
 "nbformat_minor": 5
}
